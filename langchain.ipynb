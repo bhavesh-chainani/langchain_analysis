{
 "cells": [
  {
   "cell_type": "code",
   "execution_count": 7,
   "metadata": {},
   "outputs": [],
   "source": [
    "from secret_key import OPENAI_API_KEY\n",
    "import os\n",
    "os.environ['OPENAI_API_KEY'] = OPENAI_API_KEY"
   ]
  },
  {
   "cell_type": "code",
   "execution_count": 9,
   "metadata": {},
   "outputs": [
    {
     "name": "stdout",
     "output_type": "stream",
     "text": [
      "Here are some fancy name suggestions for your Indian restaurant:\n",
      "\n",
      "1. **Saffron & Spice**\n",
      "2. **Curry Couture**\n",
      "3. **Tandoori Treasures**\n",
      "4. **Masala Majesty**\n",
      "5. **Nirvana Nibbles**\n",
      "6. **Heritage Haveli**\n",
      "7. **The Royal Thali**\n",
      "8. **Bollywood Bistro**\n",
      "9. **Karma Kitchen**\n",
      "10. **Spice Symphony**\n",
      "\n",
      "Feel free to mix and match or modify any of these names to better suit your vision!\n"
     ]
    }
   ],
   "source": [
    "from langchain.chat_models import ChatOpenAI\n",
    "\n",
    "llm = ChatOpenAI(temperature=0.6, api_key=OPENAI_API_KEY, model = 'gpt-4o-mini')\n",
    "\n",
    "# Generating a fancy restaurant name\n",
    "name = llm.predict(\"I want to open a restaurant for Indian food. Suggest a fancy name for this.\")\n",
    "print(name)"
   ]
  },
  {
   "cell_type": "code",
   "execution_count": 10,
   "metadata": {},
   "outputs": [
    {
     "data": {
      "text/plain": [
       "'I want to open a restaurant for Chinese food. Suggest a fancy name for this.'"
      ]
     },
     "execution_count": 10,
     "metadata": {},
     "output_type": "execute_result"
    }
   ],
   "source": [
    "from langchain.prompts import PromptTemplate\n",
    "\n",
    "prompt_template_name = PromptTemplate(\n",
    "    input_variables = ['cuisine'],\n",
    "    template = \"I want to open a restaurant for {cuisine} food. Suggest a fancy name for this.\"\n",
    ")\n",
    "\n",
    "prompt_template_name.format(cuisine=\"Chinese\")"
   ]
  },
  {
   "cell_type": "code",
   "execution_count": 11,
   "metadata": {},
   "outputs": [
    {
     "name": "stderr",
     "output_type": "stream",
     "text": [
      "/var/folders/fp/chskv2v95k13ldv_jpwqql9c0000gn/T/ipykernel_35298/3802899310.py:3: LangChainDeprecationWarning: The class `LLMChain` was deprecated in LangChain 0.1.17 and will be removed in 1.0. Use RunnableSequence, e.g., `prompt | llm` instead.\n",
      "  chain = LLMChain(llm=llm, prompt = prompt_template_name)\n",
      "/var/folders/fp/chskv2v95k13ldv_jpwqql9c0000gn/T/ipykernel_35298/3802899310.py:4: LangChainDeprecationWarning: The method `Chain.run` was deprecated in langchain 0.1.0 and will be removed in 1.0. Use invoke instead.\n",
      "  chain.run(\"American\")\n"
     ]
    },
    {
     "data": {
      "text/plain": [
       "\"Here are some fancy name suggestions for your American food restaurant:\\n\\n1. **The Liberty Table**\\n2. **Stars & Stripes Bistro**\\n3. **Heritage & Hearth**\\n4. **American Artisan Grill**\\n5. **The Gourmet Frontier**\\n6. **Eagle's Nest Eatery**\\n7. **Savory Stateside**\\n8. **Red, White & Gourmet**\\n9. **The Culinary Republic**\\n10. **Homestead Elegance**\\n\\nChoose one that resonates with your vision and the atmosphere you want to create!\""
      ]
     },
     "execution_count": 11,
     "metadata": {},
     "output_type": "execute_result"
    }
   ],
   "source": [
    "from langchain.chains import LLMChain\n",
    "\n",
    "chain = LLMChain(llm=llm, prompt = prompt_template_name)\n",
    "chain.run(\"American\")"
   ]
  },
  {
   "cell_type": "code",
   "execution_count": 13,
   "metadata": {},
   "outputs": [
    {
     "name": "stderr",
     "output_type": "stream",
     "text": [
      "/var/folders/fp/chskv2v95k13ldv_jpwqql9c0000gn/T/ipykernel_35298/2167716644.py:4: LangChainDeprecationWarning: The class `OpenAI` was deprecated in LangChain 0.0.10 and will be removed in 1.0. An updated version of the class exists in the langchain-openai package and should be used instead. To use it run `pip install -U langchain-openai` and import as `from langchain_openai import OpenAI`.\n",
      "  llm = OpenAI(temperature=0.6)\n"
     ]
    }
   ],
   "source": [
    "from langchain import OpenAI, LLMChain, PromptTemplate\n",
    "\n",
    "# Define the LLM with temperature as a parameter\n",
    "llm = OpenAI(temperature=0.6)\n",
    "\n",
    "# Define a prompt template for suggesting a fancy restaurant name\n",
    "prompt_template_name = PromptTemplate(\n",
    "    input_variables=['cuisine'],\n",
    "    template=\"I want to open a restaurant for {cuisine} food. Suggest a fancy name for this.\"\n",
    ")\n",
    "\n",
    "# Create a chain for generating restaurant names\n",
    "name_chain = LLMChain(llm=llm, prompt=prompt_template_name)\n",
    "\n",
    "# Define another prompt template for suggesting menu items\n",
    "prompt_template_items = PromptTemplate(\n",
    "    input_variables=['restaurant_name'],\n",
    "    template=\"Suggest some menu items for {restaurant_name}. Return it as a comma separated list.\"\n",
    ")\n",
    "\n",
    "# Create a chain for generating food items\n",
    "food_items_chain = LLMChain(llm=llm, prompt=prompt_template_items)\n"
   ]
  },
  {
   "cell_type": "code",
   "execution_count": 14,
   "metadata": {},
   "outputs": [
    {
     "name": "stdout",
     "output_type": "stream",
     "text": [
      "\n",
      "\n",
      "1. Tandoori Chicken\n",
      "2. Butter Chicken\n",
      "3. Lamb Biryani\n",
      "4. Palak Paneer\n",
      "5. Vegetable Samosas\n",
      "6. Chicken Tikka Masala\n",
      "7. Naan Bread\n",
      "8. Dal Makhani\n",
      "9. Aloo Gobi\n",
      "10. Mango Lassi\n"
     ]
    }
   ],
   "source": [
    "# Compare SimpleSequentialChain vs SequentialChain\n",
    "from langchain.chains import SimpleSequentialChain\n",
    "\n",
    "chain = SimpleSequentialChain(chains=[name_chain, food_items_chain])\n",
    "response = chain.run(\"Indian\")\n",
    "\n",
    "print(response)"
   ]
  },
  {
   "cell_type": "code",
   "execution_count": 15,
   "metadata": {},
   "outputs": [],
   "source": [
    "llm = OpenAI(temperature = 0.7) #temperature is used to control randomness of output, the higher the more random the output\n",
    "\n",
    "prompt_template_name = PromptTemplate(\n",
    "    input_variables = ['cuisine'],\n",
    "    template = \"I want to open a restaurant for {cuisine} food. Suggest a fancy name for this.\"\n",
    ")\n",
    "\n",
    "name_chain = LLMChain(llm=llm, prompt=prompt_template_name)\n",
    "\n",
    "# Simple Sequential Chain\n",
    "prompt_template_items = PromptTemplate(\n",
    "    input_variables = ['restaurant_name'],\n",
    "    template = \"Suggest some menu items for {restaurant_name}. Return it as a comma separated list.\"\n",
    ")\n",
    "\n",
    "food_items_chain = LLMChain(llm=llm, prompt=prompt_template_items, output_key=\"menu_items\")"
   ]
  },
  {
   "cell_type": "code",
   "execution_count": 19,
   "metadata": {},
   "outputs": [
    {
     "name": "stdout",
     "output_type": "stream",
     "text": [
      "Hello\n"
     ]
    }
   ],
   "source": [
    "print(\"Hello\")"
   ]
  },
  {
   "cell_type": "code",
   "execution_count": null,
   "metadata": {},
   "outputs": [],
   "source": []
  }
 ],
 "metadata": {
  "kernelspec": {
   "display_name": "nlp",
   "language": "python",
   "name": "python3"
  },
  "language_info": {
   "codemirror_mode": {
    "name": "ipython",
    "version": 3
   },
   "file_extension": ".py",
   "mimetype": "text/x-python",
   "name": "python",
   "nbconvert_exporter": "python",
   "pygments_lexer": "ipython3",
   "version": "3.11.2"
  }
 },
 "nbformat": 4,
 "nbformat_minor": 2
}
